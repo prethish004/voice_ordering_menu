{
 "cells": [
  {
   "cell_type": "code",
   "execution_count": 16,
   "id": "f5e1ec24-4431-4721-bcb1-d0992e422ade",
   "metadata": {
    "execution": {
     "iopub.execute_input": "2025-09-12T07:57:08.123236Z",
     "iopub.status.busy": "2025-09-12T07:57:08.122982Z",
     "iopub.status.idle": "2025-09-12T07:57:08.185684Z",
     "shell.execute_reply": "2025-09-12T07:57:08.185084Z",
     "shell.execute_reply.started": "2025-09-12T07:57:08.123216Z"
    }
   },
   "outputs": [
    {
     "name": "stdout",
     "output_type": "stream",
     "text": [
      "✅ JSONL file created successfully: csv files/combined_dataset.jsonl\n"
     ]
    }
   ],
   "source": [
    "import pandas as pd\n",
    "import json\n",
    "import glob\n",
    "\n",
    "# --- CONFIGURATION ---\n",
    "# Update this path to where your CSV files are stored\n",
    "csv_files = [\n",
    "    \"csv files/menu_Sheet(speaker_02).csv\",\n",
    "    \"csv files/menu_Sheet(speaker_03).csv\",\n",
    "    \"csv files/menu_Sheet(speaker_04).csv\",\n",
    "    \"csv files/menu_Sheet(speaker_09).csv\",\n",
    "    # add remaining CSV files here if you have more\n",
    "]\n",
    "\n",
    "output_file = \"csv files/combined_dataset.jsonl\"  # output jsonl file\n",
    "\n",
    "# --- STEP 1: READ AND COMBINE ALL CSV FILES ---\n",
    "df_list = [pd.read_csv(file) for file in csv_files]\n",
    "combined_df = pd.concat(df_list, ignore_index=True)\n",
    "\n",
    "# --- STEP 2: FILTER NECESSARY COLUMNS ---\n",
    "filtered_df = combined_df[[\"Sentence ID\", \"Sentence\"]].copy()\n",
    "\n",
    "# --- STEP 3: CONVERT TO JSONL FORMAT ---\n",
    "with open(output_file, \"w\", encoding=\"utf-8\") as f:\n",
    "    for _, row in filtered_df.iterrows():\n",
    "        json_line = {\n",
    "            \"audio_filepath\": f\"data/{row['Sentence ID']}.wav\",\n",
    "            \"human_transcript\": row[\"Sentence\"]\n",
    "        }\n",
    "        f.write(json.dumps(json_line, ensure_ascii=False) + \"\\n\")\n",
    "\n",
    "print(f\"✅ JSONL file created successfully: {output_file}\")\n"
   ]
  },
  {
   "cell_type": "code",
   "execution_count": 17,
   "id": "4e8190bb-9dee-430c-92f9-52a2d2df7c5c",
   "metadata": {
    "execution": {
     "iopub.execute_input": "2025-09-12T07:57:44.377534Z",
     "iopub.status.busy": "2025-09-12T07:57:44.377277Z",
     "iopub.status.idle": "2025-09-12T07:57:44.385104Z",
     "shell.execute_reply": "2025-09-12T07:57:44.384594Z",
     "shell.execute_reply.started": "2025-09-12T07:57:44.377515Z"
    }
   },
   "outputs": [
    {
     "name": "stdout",
     "output_type": "stream",
     "text": [
      "{\n",
      "  \"audio_filepath\": \"data/SENT_0909.wav\",\n",
      "  \"human_transcript\": \"two Carrot Halwa, four Phirni, five Arrabbiata Pasta, one Beetroot Halwa, three Mango Mousse Pastry\"\n",
      "}\n",
      "{\n",
      "  \"audio_filepath\": \"data/SENT_1852.wav\",\n",
      "  \"human_transcript\": \"ek Vegetable Biryani, do Appam with Coconut Milk\"\n",
      "}\n",
      "{\n",
      "  \"audio_filepath\": \"data/SENT_0410.wav\",\n",
      "  \"human_transcript\": \"two Corn Dog, three Chili Con Carne, four Apple Pie, one Dr Pepper\"\n",
      "}\n",
      "{\n",
      "  \"audio_filepath\": \"data/SENT_0874.wav\",\n",
      "  \"human_transcript\": \"naalu Miso Soup, moonu Fries, anju Sake, rendu Dorayaki, oru Chicken Dominator\"\n",
      "}\n",
      "{\n",
      "  \"audio_filepath\": \"data/SENT_0811.wav\",\n",
      "  \"human_transcript\": \"oru Tandoori Roti, rendu Khichdi\"\n",
      "}\n",
      "{\n",
      "  \"audio_filepath\": \"data/SENT_0239.wav\",\n",
      "  \"human_transcript\": \"oru Nadan Kozhi Curry, rendu Duck Roast, moonu Sambar, naalu Rasam Sadam, anju Paniyaram, aaru Vegetable Biryani\"\n",
      "}\n",
      "{\n",
      "  \"audio_filepath\": \"data/SENT_0800.wav\",\n",
      "  \"human_transcript\": \"four Jeera Rice lah, one Fish Curry, two Keema Matar, three Kadai Chicken\"\n",
      "}\n",
      "{\n",
      "  \"audio_filepath\": \"data/SENT_0274.wav\",\n",
      "  \"human_transcript\": \"oru Banana Halwa, rendu Malabar Biryani\"\n",
      "}\n",
      "{\n",
      "  \"audio_filepath\": \"data/SENT_0364.wav\",\n",
      "  \"human_transcript\": \"three Kadhi Pakora, six Kadai Chicken, four Dum Aloo, one Kachori, two Gajar ka Halwa, five Lo Mein\"\n",
      "}\n",
      "{\n",
      "  \"audio_filepath\": \"data/SENT_1974.wav\",\n",
      "  \"human_transcript\": \"one Aloo Tikki Chaat, four Wontons, two Kadai Chicken, three Fish Amritsari\"\n",
      "}\n",
      "{\n",
      "  \"audio_filepath\": \"data/SENT_0438.wav\",\n",
      "  \"human_transcript\": \"anju Zinger Burger, moonu Takoyaki, naalu Banana Milk, oru Veg Zinger, rendu Korean Rice Cake\"\n",
      "}\n",
      "{\n",
      "  \"audio_filepath\": \"data/SENT_0478.wav\",\n",
      "  \"human_transcript\": \"oru Malabar Biryani, rendu Chicken 65, moonu Beef Cutlet, naalu Unniyappam, anju Mutton Biryani\"\n",
      "}\n",
      "{\n",
      "  \"audio_filepath\": \"data/SENT_1890.wav\",\n",
      "  \"human_transcript\": \"do Ada Pradhaman, teen Meen Molee, paanch Masala Dosa, chaar Filter Coffee, ek Akkaravadisal\"\n",
      "}\n",
      "{\n",
      "  \"audio_filepath\": \"data/SENT_0912.wav\",\n",
      "  \"human_transcript\": \"moonu Unniyappam, anju Fried Ice Cream, oru Kalakand, rendu Mango Smoothie, naalu Malpua\"\n",
      "}\n",
      "{\n",
      "  \"audio_filepath\": \"data/SENT_1879.wav\",\n",
      "  \"human_transcript\": \"two Kerala Sulaimani, one Parippu Curry\"\n",
      "}\n",
      "{\n",
      "  \"audio_filepath\": \"data/SENT_0671.wav\",\n",
      "  \"human_transcript\": \"oru Espresso, rendu Dark Chocolate, anju Tulsi Ginger Tea, naalu Malpua, moonu Payasam\"\n",
      "}\n",
      "{\n",
      "  \"audio_filepath\": \"data/SENT_0711.wav\",\n",
      "  \"human_transcript\": \"one Beef Cutlet, two More Kuzhambu, three Chicken Cutlet, four Sambar lah\"\n",
      "}\n",
      "{\n",
      "  \"audio_filepath\": \"data/SENT_0336.wav\",\n",
      "  \"human_transcript\": \"one Paneer Butter Masala, two Veg Pulao\"\n",
      "}\n",
      "{\n",
      "  \"audio_filepath\": \"data/SENT_1897.wav\",\n",
      "  \"human_transcript\": \"che Tamarind Rice, do Theeyal, paanch Vada, ek Pathiri, chaar Nadan Kozhi Curry, teen Pulissery\"\n",
      "}\n",
      "{\n",
      "  \"audio_filepath\": \"data/SENT_0902.wav\",\n",
      "  \"human_transcript\": \"rendu French Fries, moonu Bottle Gourd Halwa, naalu Cheesecake, oru Ã‰clair, anju Chicken Caesar Wrap\"\n",
      "}\n"
     ]
    }
   ],
   "source": [
    "# import json\n",
    "\n",
    "# jsonl_file = \"combined_dataset.jsonl\"  # change if file is in another path\n",
    "\n",
    "# with open(jsonl_file, \"r\", encoding=\"utf-8\") as f:\n",
    "#     for line in f:\n",
    "#         data = json.loads(line)\n",
    "#         print(data)\n",
    "import json\n",
    "import random\n",
    "\n",
    "jsonl_file = \"csv files/combined_dataset.jsonl\"  # change if file is in another path\n",
    "\n",
    "# Read all lines into memory\n",
    "with open(jsonl_file, \"r\", encoding=\"utf-8\") as f:\n",
    "    data = [json.loads(line) for line in f]\n",
    "\n",
    "# Choose 20 random samples (or less if file has fewer lines)\n",
    "sample_size = min(20, len(data))\n",
    "random_samples = random.sample(data, sample_size)\n",
    "\n",
    "# Pretty-print results\n",
    "for sample in random_samples:\n",
    "    print(json.dumps(sample, indent=2, ensure_ascii=False))\n"
   ]
  },
  {
   "cell_type": "code",
   "execution_count": null,
   "id": "e1d4e0aa-5985-4bcc-9f53-8de282b33326",
   "metadata": {},
   "outputs": [],
   "source": [
    "import zipfile\n",
    "import os\n",
    "\n",
    "# --- CONFIGURATION ---\n",
    "zip_path = \"data.zip\"  # <-- Change this to your zip file name\n",
    "extract_dir = \"data\"           # Folder where files will be extracted\n",
    "\n",
    "# --- STEP 1: CREATE FOLDER IF NOT EXISTS ---\n",
    "if not os.path.exists(extract_dir):\n",
    "    os.makedirs(extract_dir)\n",
    "\n",
    "# --- STEP 2: UNZIP FILE ---\n",
    "with zipfile.ZipFile(zip_path, 'r') as zip_ref:\n",
    "    zip_ref.extractall(extract_dir)\n",
    "\n",
    "print(f\"✅ Successfully unzipped '{zip_path}' into '{extract_dir}/'\")\n"
   ]
  },
  {
   "cell_type": "code",
   "execution_count": 19,
   "id": "af627371-0f99-4317-a477-f7e14d39ae43",
   "metadata": {
    "execution": {
     "iopub.execute_input": "2025-09-12T08:02:15.135118Z",
     "iopub.status.busy": "2025-09-12T08:02:15.134871Z",
     "iopub.status.idle": "2025-09-12T08:02:15.151370Z",
     "shell.execute_reply": "2025-09-12T08:02:15.150885Z",
     "shell.execute_reply.started": "2025-09-12T08:02:15.135098Z"
    }
   },
   "outputs": [
    {
     "name": "stdout",
     "output_type": "stream",
     "text": [
      "✅ Cleaned JSONL file created: csv files/combined_dataset_cleaned.jsonl\n",
      "✅ Total valid entries: 885\n",
      "⚠️ Missing audio files:\n",
      "  - data/nan.wav\n",
      "  - data/SENT_0621.wav\n",
      "  - data/SENT_0622.wav\n",
      "  - data/SENT_0623.wav\n",
      "  - data/SENT_0624.wav\n",
      "  - data/SENT_0625.wav\n",
      "  - data/SENT_0626.wav\n",
      "  - data/SENT_0627.wav\n",
      "  - data/SENT_0628.wav\n",
      "  - data/SENT_0629.wav\n",
      "  - data/SENT_0630.wav\n",
      "  - data/SENT_0631.wav\n",
      "  - data/SENT_0632.wav\n",
      "  - data/SENT_0633.wav\n",
      "  - data/SENT_0634.wav\n",
      "  - data/SENT_0635.wav\n",
      "  - data/SENT_0636.wav\n",
      "  - data/SENT_0637.wav\n",
      "  - data/SENT_0638.wav\n",
      "  - data/SENT_0647.wav\n",
      "  - data/SENT_0648.wav\n",
      "  - data/SENT_0649.wav\n",
      "  - data/SENT_0654.wav\n",
      "  - data/SENT_0655.wav\n",
      "  - data/nan.wav\n",
      "  - data/SENT_0748.wav\n",
      "  - data/SENT_0781.wav\n",
      "  - data/SENT_0890.wav\n",
      "  - data/SENT_0891.wav\n",
      "  - data/SENT_0892.wav\n",
      "  - data/SENT_0893.wav\n",
      "  - data/SENT_0894.wav\n",
      "  - data/SENT_0895.wav\n",
      "  - data/SENT_0896.wav\n",
      "  - data/SENT_0897.wav\n",
      "  - data/SENT_0898.wav\n",
      "  - data/SENT_0899.wav\n",
      "  - data/nan.wav\n",
      "  - data/nan.wav\n"
     ]
    }
   ],
   "source": [
    "import json\n",
    "import os\n",
    "\n",
    "# --- CONFIGURATION ---\n",
    "input_jsonl = \"csv files/combined_dataset.jsonl\"   # your existing JSONL file\n",
    "output_jsonl = \"csv files/combined_dataset_cleaned.jsonl\"  # cleaned output file\n",
    "\n",
    "# --- STEP 1: LOAD JSONL ---\n",
    "valid_entries = []\n",
    "missing_files = []\n",
    "\n",
    "with open(input_jsonl, \"r\", encoding=\"utf-8\") as f:\n",
    "    for line in f:\n",
    "        entry = json.loads(line.strip())\n",
    "        audio_path = entry[\"audio_filepath\"]\n",
    "\n",
    "        if os.path.exists(audio_path):\n",
    "            valid_entries.append(entry)\n",
    "        else:\n",
    "            missing_files.append(audio_path)\n",
    "\n",
    "# --- STEP 2: WRITE CLEANED JSONL ---\n",
    "with open(output_jsonl, \"w\", encoding=\"utf-8\") as f:\n",
    "    for entry in valid_entries:\n",
    "        f.write(json.dumps(entry, ensure_ascii=False) + \"\\n\")\n",
    "\n",
    "print(f\"✅ Cleaned JSONL file created: {output_jsonl}\")\n",
    "print(f\"✅ Total valid entries: {len(valid_entries)}\")\n",
    "\n",
    "if missing_files:\n",
    "    print(\"⚠️ Missing audio files:\")\n",
    "    for missing in missing_files:\n",
    "        print(f\"  - {missing}\")\n",
    "else:\n",
    "    print(\"🎉 All audio files were found.\")\n"
   ]
  },
  {
   "cell_type": "code",
   "execution_count": 20,
   "id": "edfe2938-c786-4e81-8f5e-a6872ba04851",
   "metadata": {
    "execution": {
     "iopub.execute_input": "2025-09-12T08:06:05.584329Z",
     "iopub.status.busy": "2025-09-12T08:06:05.584073Z",
     "iopub.status.idle": "2025-09-12T08:06:05.597404Z",
     "shell.execute_reply": "2025-09-12T08:06:05.596872Z",
     "shell.execute_reply.started": "2025-09-12T08:06:05.584309Z"
    }
   },
   "outputs": [
    {
     "name": "stdout",
     "output_type": "stream",
     "text": [
      "✅ Saved train.jsonl (708 records), valid.jsonl (88 records), test.jsonl (89 records))\n"
     ]
    }
   ],
   "source": [
    "import os\n",
    "import json\n",
    "import random\n",
    "\n",
    "# ---- Step 2: Load JSONL (line by line) ----\n",
    "json_file = \"csv files/combined_dataset_cleaned.jsonl\"  # change this if your JSON has another name\n",
    "\n",
    "data = []\n",
    "with open(json_file, \"r\", encoding=\"utf-8\") as f:\n",
    "    for line in f:\n",
    "        data.append(json.loads(line))\n",
    "\n",
    "# ---- Step 3: Shuffle & Split (80/10/10) ----\n",
    "random.shuffle(data)\n",
    "n = len(data)\n",
    "train_end = int(0.8 * n)\n",
    "valid_end = int(0.9 * n)\n",
    "\n",
    "train_data = data[:train_end]\n",
    "valid_data = data[train_end:valid_end]\n",
    "test_data = data[valid_end:]\n",
    "\n",
    "# ---- Step 4: Save in JSONL format ----\n",
    "def save_jsonl(path, records):\n",
    "    os.makedirs(os.path.dirname(path), exist_ok=True)  # ensure folder exists\n",
    "    with open(path, \"w\", encoding=\"utf-8\") as f:\n",
    "        for r in records:\n",
    "            f.write(json.dumps(r, ensure_ascii=False) + \"\\n\")\n",
    "\n",
    "save_jsonl(\"csv files/train.jsonl\", train_data)\n",
    "save_jsonl(\"csv files/valid.jsonl\", valid_data)\n",
    "save_jsonl(\"csv files/test.jsonl\", test_data)\n",
    "\n",
    "print(f\"✅ Saved train.jsonl ({len(train_data)} records), \"\n",
    "      f\"valid.jsonl ({len(valid_data)} records), \"\n",
    "      f\"test.jsonl ({len(test_data)} records))\")\n"
   ]
  },
  {
   "cell_type": "code",
   "execution_count": 1,
   "id": "505ef9ca-47be-46fc-9edd-efb83f536b9f",
   "metadata": {
    "execution": {
     "iopub.execute_input": "2025-09-13T04:19:51.016676Z",
     "iopub.status.busy": "2025-09-13T04:19:51.016425Z",
     "iopub.status.idle": "2025-09-13T04:19:54.555211Z",
     "shell.execute_reply": "2025-09-13T04:19:54.554694Z",
     "shell.execute_reply.started": "2025-09-13T04:19:51.016656Z"
    }
   },
   "outputs": [
    {
     "name": "stdout",
     "output_type": "stream",
     "text": [
      "✅ Zipped 1epoch_largev2lora_adapter → 1epoch_largev2lora_adapter.zip\n",
      "✅ Zipped 1epoch_largev2lora_fine_tuned_whisper → 1epoch_largev2lora_fine_tuned_whisper.zip\n",
      "✅ Zipped 1epochND_largev2lora_adapter → 1epochND_largev2lora_adapter.zip\n",
      "✅ Zipped 1epochND_largev2lora_fine_tuned_whisper → 1epochND_largev2lora_fine_tuned_whisper.zip\n"
     ]
    }
   ],
   "source": [
    "import shutil\n",
    "\n",
    "folders = [\n",
    "    \"1epoch_largev2lora_adapter\",\n",
    "    \"1epoch_largev2lora_fine_tuned_whisper\",\n",
    "    \"1epochND_largev2lora_adapter\",\n",
    "    \"1epochND_largev2lora_fine_tuned_whisper\"\n",
    "]\n",
    "\n",
    "for folder in folders:\n",
    "    shutil.make_archive(folder, 'zip', folder)\n",
    "    print(f\"✅ Zipped {folder} → {folder}.zip\")\n"
   ]
  },
  {
   "cell_type": "code",
   "execution_count": null,
   "id": "18caffee-ae9d-413b-87a0-682b9ee09d20",
   "metadata": {},
   "outputs": [],
   "source": []
  },
  {
   "cell_type": "code",
   "execution_count": null,
   "id": "efeaa604-73b5-433d-a901-967a40c2fcd0",
   "metadata": {},
   "outputs": [],
   "source": []
  }
 ],
 "metadata": {
  "kernelspec": {
   "display_name": "Python 3 (ipykernel)",
   "language": "python",
   "name": "python3"
  },
  "language_info": {
   "codemirror_mode": {
    "name": "ipython",
    "version": 3
   },
   "file_extension": ".py",
   "mimetype": "text/x-python",
   "name": "python",
   "nbconvert_exporter": "python",
   "pygments_lexer": "ipython3",
   "version": "3.12.9"
  }
 },
 "nbformat": 4,
 "nbformat_minor": 5
}
